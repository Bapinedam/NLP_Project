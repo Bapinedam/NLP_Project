{
 "cells": [
  {
   "cell_type": "code",
   "execution_count": 2,
   "id": "suspected-hands",
   "metadata": {},
   "outputs": [],
   "source": [
    "import pandas as pd"
   ]
  },
  {
   "cell_type": "code",
   "execution_count": 1,
   "id": "sexual-publisher",
   "metadata": {},
   "outputs": [],
   "source": [
    "# This is just a test number 2"
   ]
  },
  {
   "cell_type": "code",
   "execution_count": 1,
   "id": "latest-ordering",
   "metadata": {},
   "outputs": [
    {
     "name": "stdout",
     "output_type": "stream",
     "text": [
      "L\n",
      "o\n",
      "s\n",
      " \n",
      "a\n",
      "m\n",
      "o\n",
      " \n",
      "h\n",
      "e\n",
      "r\n",
      "m\n",
      "o\n",
      "s\n",
      "o\n",
      "s\n"
     ]
    }
   ],
   "source": [
    "lista = \"Los amo hermosos\"\n",
    "for letra in lista:\n",
    "    print(letra)"
   ]
  },
  {
   "cell_type": "markdown",
   "id": "modular-multiple",
   "metadata": {},
   "source": [
    "# Esto es un titulo"
   ]
  },
  {
   "cell_type": "markdown",
   "id": "inappropriate-anderson",
   "metadata": {},
   "source": [
    "## Esto es un subtitulo"
   ]
  },
  {
   "cell_type": "markdown",
   "id": "random-suffering",
   "metadata": {},
   "source": [
    "### El subtitulo del subtitulo"
   ]
  },
  {
   "cell_type": "code",
   "execution_count": null,
   "id": "informal-excitement",
   "metadata": {},
   "outputs": [],
   "source": []
  }
 ],
 "metadata": {
  "kernelspec": {
   "display_name": "Python 3",
   "language": "python",
   "name": "python3"
  },
  "language_info": {
   "codemirror_mode": {
    "name": "ipython",
    "version": 3
   },
   "file_extension": ".py",
   "mimetype": "text/x-python",
   "name": "python",
   "nbconvert_exporter": "python",
   "pygments_lexer": "ipython3",
   "version": "3.8.8"
  }
 },
 "nbformat": 4,
 "nbformat_minor": 5
}
